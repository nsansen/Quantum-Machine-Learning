{
 "cells": [
  {
   "cell_type": "code",
   "execution_count": 1,
   "metadata": {},
   "outputs": [],
   "source": [
    "##########################################################################\n",
    "# Quantum Binary classifier using Keras\n",
    "# Nikolaos Schetakis , nsxetakis@yahoo.gr\n",
    "###########################################################################"
   ]
  },
  {
   "cell_type": "code",
   "execution_count": 1,
   "metadata": {
    "slideshow": {
     "slide_type": "fragment"
    }
   },
   "outputs": [
    {
     "data": {
      "text/plain": [
       "'C:\\\\Users\\\\Quantum\\\\Desktop\\\\SMU SIMULATIONS\\\\Tradeteq\\\\2 14Q\\\\2 NN VCDRC'"
      ]
     },
     "execution_count": 1,
     "metadata": {},
     "output_type": "execute_result"
    }
   ],
   "source": [
    "# base packages\n",
    "import numpy as np\n",
    "import pandas as pd\n",
    "import matplotlib.pyplot as plt\n",
    "import os \n",
    "import pennylane as qml\n",
    "import tensorflow as tf\n",
    "from pennylane import numpy as np\n",
    "os.getcwd()"
   ]
  },
  {
   "cell_type": "markdown",
   "metadata": {
    "slideshow": {
     "slide_type": "subslide"
    }
   },
   "source": [
    "## 4.1 Hyperparameters:"
   ]
  },
  {
   "cell_type": "code",
   "execution_count": 2,
   "metadata": {},
   "outputs": [],
   "source": [
    "n_qubits = 19\n",
    "dropoutrate = 0\n",
    "\n",
    "blocks = 4 #number of blocks (AngleEmbedding and StronglyEntanglingLayers is one block )\n",
    "layers = 2  #layers per block (multiple “layers” of StronglyEntanglingLayers per block )\n",
    "\n",
    "epochsC = 15 #800 # Classical pre-training epochs. Used for hot-starting the classical part of the hybrid\n",
    "epochsH = 20 # Hybrid training epochs\n",
    "batch_size = 16 #100\n",
    "np.random.seed(42)\n",
    "\n",
    "learning_rate = 0.001 #0.001 #0.2 # Learning ratefor optimizer\n",
    "opt = tf.keras.optimizers.Adam(learning_rate=learning_rate) #tf.keras.optimizers.SGD(learning_rate=learning_rate) #Select optimizer\n",
    "\n",
    "dev = qml.device(\"lightning.qubit\", wires=n_qubits) # Run the model in classical CPU"
   ]
  },
  {
   "cell_type": "code",
   "execution_count": 3,
   "metadata": {},
   "outputs": [],
   "source": [
    "from numpy import loadtxt\n",
    "# load array\n",
    "X_train = loadtxt('X_train.csv', delimiter=',')\n",
    "y_train = loadtxt('y_train.csv', delimiter=',')\n",
    "X_val = loadtxt('X_val.csv', delimiter=',')\n",
    "y_val = loadtxt('y_val.csv', delimiter=',')\n",
    "X_test = loadtxt('X_test.csv', delimiter=',')\n",
    "y_test = loadtxt('y_test.csv', delimiter=',')"
   ]
  },
  {
   "cell_type": "code",
   "execution_count": 5,
   "metadata": {
    "slideshow": {
     "slide_type": "subslide"
    }
   },
   "outputs": [],
   "source": [
    "def AUC_roc_plot(data,predictions):    \n",
    "    from sklearn.metrics import roc_curve , auc\n",
    "    from sklearn.metrics import roc_auc_score\n",
    "    from sklearn.metrics import confusion_matrix, precision_score, recall_score, f1_score, cohen_kappa_score\n",
    "    fpr = dict()\n",
    "    tpr = dict()\n",
    "    roc_auc = dict()\n",
    "\n",
    "    for i in range(len(y_test)):\n",
    "        fpr[i], tpr[i], _ = roc_curve(data, predictions)\n",
    "        roc_auc[i] = auc(fpr[i], tpr[i])\n",
    "\n",
    "    # Compute micro-average ROC curve and ROC area\n",
    "    fpr[\"micro\"], tpr[\"micro\"], _ = roc_curve(data.ravel(), predictions.ravel())\n",
    "    roc_auc[\"micro\"] = auc(fpr[\"micro\"], tpr[\"micro\"])\n",
    "\n",
    "    plt.figure()\n",
    "    lw = 2\n",
    "    plt.plot(fpr[2], tpr[2], color='darkorange',\n",
    "    lw=lw, label='ROC curve (area = %0.2f)' % roc_auc[2])\n",
    "    plt.plot([0, 1], [0, 1], color='navy', lw=lw, linestyle='--')\n",
    "    plt.xlim([0.0, 1.0])\n",
    "    plt.ylim([0.0, 1.05])\n",
    "    plt.xlabel('False Positive Rate')\n",
    "    plt.ylabel('True Positive Rate')\n",
    "    plt.title('Receiver operating characteristic example Ν=10 steps')\n",
    "    plt.legend(loc=\"lower right\")\n",
    "    plt.show()\n",
    "    auc_score=roc_auc_score(data,predictions) \n",
    "    \n",
    "    # Confusion matrix\n",
    "    \n",
    "    print(\"auc score: \", round(auc_score,3))"
   ]
  },
  {
   "cell_type": "markdown",
   "metadata": {
    "slideshow": {
     "slide_type": "subslide"
    }
   },
   "source": [
    "## 4.2 Build Hybrid model:\n",
    "\n",
    "### 4.2.1 Build quantum node:"
   ]
  },
  {
   "cell_type": "code",
   "execution_count": 6,
   "metadata": {
    "slideshow": {
     "slide_type": "subslide"
    }
   },
   "outputs": [],
   "source": [
    "# Define quantum node\n",
    "@qml.qnode(dev, interface=\"tf\",diff_method=\"adjoint\" )\n",
    "def qnode(inputs, weights):\n",
    "    for i in range(blocks):\n",
    "        qml.templates.AngleEmbedding(inputs, wires=range(n_qubits))\n",
    "#       qml.templates.BasicEntanglerLayers(weights, wires=range(n_qubits)) #BASIC ENTANGLER LAYERS , chan\n",
    "        qml.templates.StronglyEntanglingLayers(weights[i], wires=range(n_qubits)) #STRONGLY ENTANGLING LAYERS\n",
    "    return [qml.expval(qml.PauliZ(i)) for i in range(n_qubits)]\n",
    "\n",
    "# Set initial random weights to qnode depending on whether you have used\n",
    "# Basic entangler layers or Strongly entangling layers.\n",
    "#The weights argument of the QNode is trainable \n",
    "#weight_shapes = {\"weights\": (layers, n_qubits)} # Uncomment for Basic entangler layers\n",
    "weights_shape = (blocks, layers, n_qubits, 3) # Uncomment for Strongly entangling layers\n",
    "\n",
    "\n",
    "###weights = tf.Variable(np.random.random(weights_shape))\n",
    "###inputs = tf.constant(np.random.random(n_qubits))\n",
    "#print(\"Output of QNode:\", qnode(inputs, weights).numpy())"
   ]
  },
  {
   "cell_type": "markdown",
   "metadata": {},
   "source": [
    "### 4.2.2 Build Hybrid:"
   ]
  },
  {
   "cell_type": "code",
   "execution_count": 7,
   "metadata": {},
   "outputs": [],
   "source": [
    "# Define custom activation function for final classical layer\n",
    "\n",
    "#If custom activation function Csigmoid is used \n",
    "#then modelcheckpoint produces error and cannot save the best model as best_model.h5\n",
    "from tensorflow.keras import backend as K\n",
    "\n",
    "def Csigmoid(x):\n",
    "    return (K.sigmoid(x) * 3.14) \n",
    "\n",
    "# Optionally convert to Keras layer:\n",
    "tf.keras.backend.set_floatx(\"float64\")\n",
    "weight_shapes = {\"weights\": weights_shape}\n",
    "\n",
    "#X_train.shape[1]\n",
    "# Create the Hybrid model\n",
    "#------------ classical Master layer ------------\n",
    "clayerM = tf.keras.layers.Dense(X_train.shape[1], activation=\"relu\") \n",
    "#------------ Classical feeding layer. Must have same dimensions as qnode's qubits ------------\n",
    "clayerF = tf.keras.layers.LeakyReLU(alpha=0.3) #tf.keras.layers.Dense(n_qubits, activation=\"leaky_relu\")#Csigmoid)\n",
    "clayerF1 = tf.keras.layers.Dense(n_qubits, activation=\"relu\")\n",
    "#dropout layer\n",
    "clayerDropout = tf.keras.layers.Dropout(0.2)\n",
    "#------------ Quantum layer. It consists of the quantum node as defined before ------------\n",
    "qlayer = qml.qnn.KerasLayer(qnode, weight_shapes, n_qubits)\n",
    "#------------ Classical Decision layer ------------\n",
    "clayerD = tf.keras.layers.Dense(1, activation=\"sigmoid\")\n",
    "\n",
    "inputs = tf.constant(np.random.random((batch_size, n_qubits)))\n",
    "#print(\"Output of quantum layer:\\n\", qlayer(inputs).numpy())"
   ]
  },
  {
   "cell_type": "markdown",
   "metadata": {
    "slideshow": {
     "slide_type": "subslide"
    }
   },
   "source": [
    "### 4.2.3 Hot start / Transfer learning:"
   ]
  },
  {
   "cell_type": "code",
   "execution_count": 8,
   "metadata": {
    "slideshow": {
     "slide_type": "subslide"
    }
   },
   "outputs": [],
   "source": [
    "from tensorflow.keras.callbacks import EarlyStopping, ModelCheckpoint, ReduceLROnPlateau\n",
    "from tensorflow.keras.models import load_model\n",
    "from tensorflow.keras.metrics import AUC\n",
    "from os import path\n",
    "# Include classical layers only\n",
    "modelc = tf.keras.models.Sequential([clayerM, clayerF,clayerF1, clayerDropout, clayerD]) #clayerDropout, clayerDropout,clayerF,clayerDropout, \n",
    "\n",
    "es = EarlyStopping(monitor='auc', min_delta=1e-9, patience=600, verbose=1) #'sparse_categorical_accuracy'\n",
    "\n",
    "mc = ModelCheckpoint('best_model.h5', monitor='val_auc', mode='max', verbose=1, save_best_only=True) #'sparse_categorical_accuracy'\n",
    "\n",
    "rp = ReduceLROnPlateau(monitor = 'val_loss', factor = 0.8, \n",
    "                                  patience = 100, min_delta = 0.001, \n",
    "                                  mode = 'min', verbose = 1)\n",
    "\n",
    "\n",
    "modelc.compile(opt, loss='binary_crossentropy',\n",
    "               metrics=[AUC(name = 'auc')])#'sparse_categorical_accuracy','categorical_accuracy','binary_accuracy', 'accuracy'])\n",
    "\n",
    "modelc.build(input_shape=X_train.shape)\n",
    "\n",
    "#modelh.summary()\n",
    "\n",
    "\n"
   ]
  },
  {
   "cell_type": "code",
   "execution_count": 9,
   "metadata": {},
   "outputs": [
    {
     "name": "stdout",
     "output_type": "stream",
     "text": [
      "Epoch 1/15\n",
      "113/113 [==============================] - 1s 2ms/step - loss: 0.4401 - auc: 0.5209 - val_loss: 0.3032 - val_auc: 0.5869\n",
      "\n",
      "Epoch 00001: val_auc improved from -inf to 0.58687, saving model to best_model.h5\n",
      "Epoch 2/15\n",
      "113/113 [==============================] - 0s 518us/step - loss: 0.3515 - auc: 0.5634 - val_loss: 0.2919 - val_auc: 0.6341\n",
      "\n",
      "Epoch 00002: val_auc improved from 0.58687 to 0.63414, saving model to best_model.h5\n",
      "Epoch 3/15\n",
      "113/113 [==============================] - 0s 527us/step - loss: 0.3453 - auc: 0.5823 - val_loss: 0.2861 - val_auc: 0.6725\n",
      "\n",
      "Epoch 00003: val_auc improved from 0.63414 to 0.67253, saving model to best_model.h5\n",
      "Epoch 4/15\n",
      "113/113 [==============================] - 0s 509us/step - loss: 0.3401 - auc: 0.6104 - val_loss: 0.2819 - val_auc: 0.6810\n",
      "\n",
      "Epoch 00004: val_auc improved from 0.67253 to 0.68101, saving model to best_model.h5\n",
      "Epoch 5/15\n",
      "113/113 [==============================] - 0s 527us/step - loss: 0.3309 - auc: 0.6384 - val_loss: 0.2793 - val_auc: 0.6919\n",
      "\n",
      "Epoch 00005: val_auc improved from 0.68101 to 0.69192, saving model to best_model.h5\n",
      "Epoch 6/15\n",
      "113/113 [==============================] - 0s 536us/step - loss: 0.3253 - auc: 0.6610 - val_loss: 0.2771 - val_auc: 0.7002\n",
      "\n",
      "Epoch 00006: val_auc improved from 0.69192 to 0.70020, saving model to best_model.h5\n",
      "Epoch 7/15\n",
      "113/113 [==============================] - 0s 527us/step - loss: 0.3250 - auc: 0.6653 - val_loss: 0.2763 - val_auc: 0.7190\n",
      "\n",
      "Epoch 00007: val_auc improved from 0.70020 to 0.71899, saving model to best_model.h5\n",
      "Epoch 8/15\n",
      "113/113 [==============================] - 0s 527us/step - loss: 0.3193 - auc: 0.6874 - val_loss: 0.2671 - val_auc: 0.7232\n",
      "\n",
      "Epoch 00008: val_auc improved from 0.71899 to 0.72323, saving model to best_model.h5\n",
      "Epoch 9/15\n",
      "113/113 [==============================] - 0s 518us/step - loss: 0.3169 - auc: 0.6982 - val_loss: 0.2652 - val_auc: 0.7349\n",
      "\n",
      "Epoch 00009: val_auc improved from 0.72323 to 0.73495, saving model to best_model.h5\n",
      "Epoch 10/15\n",
      "113/113 [==============================] - 0s 518us/step - loss: 0.3182 - auc: 0.6937 - val_loss: 0.2599 - val_auc: 0.7596\n",
      "\n",
      "Epoch 00010: val_auc improved from 0.73495 to 0.75960, saving model to best_model.h5\n",
      "Epoch 11/15\n",
      "113/113 [==============================] - 0s 536us/step - loss: 0.3122 - auc: 0.7081 - val_loss: 0.2580 - val_auc: 0.7661\n",
      "\n",
      "Epoch 00011: val_auc improved from 0.75960 to 0.76606, saving model to best_model.h5\n",
      "Epoch 12/15\n",
      "113/113 [==============================] - 0s 518us/step - loss: 0.3081 - auc: 0.7236 - val_loss: 0.2558 - val_auc: 0.7834\n",
      "\n",
      "Epoch 00012: val_auc improved from 0.76606 to 0.78343, saving model to best_model.h5\n",
      "Epoch 13/15\n",
      "113/113 [==============================] - 0s 518us/step - loss: 0.3061 - auc: 0.7300 - val_loss: 0.2569 - val_auc: 0.7913\n",
      "\n",
      "Epoch 00013: val_auc improved from 0.78343 to 0.79131, saving model to best_model.h5\n",
      "Epoch 14/15\n",
      "113/113 [==============================] - 0s 518us/step - loss: 0.3051 - auc: 0.7337 - val_loss: 0.2521 - val_auc: 0.7931\n",
      "\n",
      "Epoch 00014: val_auc improved from 0.79131 to 0.79313, saving model to best_model.h5\n",
      "Epoch 15/15\n",
      "113/113 [==============================] - 0s 500us/step - loss: 0.3012 - auc: 0.7389 - val_loss: 0.2518 - val_auc: 0.7949\n",
      "\n",
      "Epoch 00015: val_auc improved from 0.79313 to 0.79495, saving model to best_model.h5\n",
      "Model: \"sequential\"\n",
      "_________________________________________________________________\n",
      "Layer (type)                 Output Shape              Param #   \n",
      "=================================================================\n",
      "dense (Dense)                (None, 21)                462       \n",
      "_________________________________________________________________\n",
      "leaky_re_lu (LeakyReLU)      (None, 21)                0         \n",
      "_________________________________________________________________\n",
      "dense_1 (Dense)              (None, 19)                418       \n",
      "_________________________________________________________________\n",
      "dropout (Dropout)            (None, 19)                0         \n",
      "_________________________________________________________________\n",
      "dense_2 (Dense)              (None, 1)                 20        \n",
      "=================================================================\n",
      "Total params: 900\n",
      "Trainable params: 900\n",
      "Non-trainable params: 0\n",
      "_________________________________________________________________\n"
     ]
    }
   ],
   "source": [
    "historyh = modelc.fit(X_train, y_train,\n",
    "                      #validation_split = 0.1,    \n",
    "                      validation_data=(X_val, y_val),\n",
    "                      callbacks=[es,mc, rp],\n",
    "                      epochs=epochsC,\n",
    "                      batch_size=batch_size,\n",
    "                     shuffle=True)\n",
    "\n",
    "modelc.summary()"
   ]
  },
  {
   "cell_type": "code",
   "execution_count": 10,
   "metadata": {
    "slideshow": {
     "slide_type": "subslide"
    }
   },
   "outputs": [
    {
     "name": "stderr",
     "output_type": "stream",
     "text": [
      "C:\\Users\\Quantum\\anaconda3\\envs\\Quantum\\lib\\site-packages\\tensorflow\\python\\keras\\engine\\sequential.py:430: UserWarning: `model.predict_proba()` is deprecated and will be removed after 2021-01-01. Please use `model.predict()` instead.\n",
      "  warnings.warn('`model.predict_proba()` is deprecated and '\n"
     ]
    }
   ],
   "source": [
    "# Make predictions on X_test\n",
    "y_test_pred = (modelc.predict(X_test) > 0.5).astype(\"int32\")\n",
    "y_val_pred = (modelc.predict(X_val) > 0.5).astype(\"int32\")\n",
    "\n",
    "y_test_pred_proba = modelc.predict_proba(X_test)\n",
    "y_val_pred_proba = modelc.predict_proba(X_val)"
   ]
  },
  {
   "cell_type": "code",
   "execution_count": 11,
   "metadata": {
    "slideshow": {
     "slide_type": "subslide"
    }
   },
   "outputs": [
    {
     "data": {
      "image/png": "[encoded data removed]",
      "text/plain": [
       "<Figure size 432x288 with 1 Axes>"
      ]
     },
     "metadata": {
      "needs_background": "light"
     },
     "output_type": "display_data"
    },
    {
     "data": {
      "image/png": "[encoded data removed]",
      "text/plain": [
       "<Figure size 432x288 with 1 Axes>"
      ]
     },
     "metadata": {
      "needs_background": "light"
     },
     "output_type": "display_data"
    }
   ],
   "source": [
    "from matplotlib import pyplot\n",
    "pyplot.plot(historyh.history['loss'], label='loss train')\n",
    "pyplot.plot(historyh.history['val_loss'], label='loss test')\n",
    "pyplot.legend()\n",
    "pyplot.show()\n",
    "\n",
    "#pyplot.plot(historyh.history['binary_accuracy'], label='accuracy train')\n",
    "#pyplot.plot(historyh.history['val_binary_accuracy'], label='accuracy test')\n",
    "#pyplot.plot(history.history['mse'], label='mse')\n",
    "#pyplot.plot(history.history['mae'], label='mae')\n",
    "#pyplot.legend()\n",
    "#pyplot.show()\n",
    "\n",
    "pyplot.plot(historyh.history['auc'], label='auc train')\n",
    "pyplot.plot(historyh.history['val_auc'], label='auc test')\n",
    "pyplot.legend()\n",
    "pyplot.show()"
   ]
  },
  {
   "cell_type": "code",
   "execution_count": 12,
   "metadata": {},
   "outputs": [
    {
     "data": {
      "image/png": "[encoded data removed]",
      "text/plain": [
       "<Figure size 432x288 with 1 Axes>"
      ]
     },
     "metadata": {
      "needs_background": "light"
     },
     "output_type": "display_data"
    },
    {
     "name": "stdout",
     "output_type": "stream",
     "text": [
      "auc score:  0.673\n"
     ]
    }
   ],
   "source": [
    "AUC_roc_plot(y_test,y_test_pred_proba)"
   ]
  },
  {
   "cell_type": "code",
   "execution_count": 13,
   "metadata": {},
   "outputs": [
    {
     "data": {
      "image/png": "[encoded data removed]",
      "text/plain": [
       "<Figure size 432x288 with 1 Axes>"
      ]
     },
     "metadata": {
      "needs_background": "light"
     },
     "output_type": "display_data"
    },
    {
     "name": "stdout",
     "output_type": "stream",
     "text": [
      "auc score:  0.796\n"
     ]
    }
   ],
   "source": [
    "AUC_roc_plot(y_val,y_val_pred_proba)"
   ]
  },
  {
   "cell_type": "code",
   "execution_count": 14,
   "metadata": {
    "slideshow": {
     "slide_type": "subslide"
    }
   },
   "outputs": [
    {
     "name": "stderr",
     "output_type": "stream",
     "text": [
      "C:\\Users\\Quantum\\anaconda3\\envs\\Quantum\\lib\\site-packages\\tensorflow\\python\\keras\\engine\\sequential.py:455: UserWarning: `model.predict_classes()` is deprecated and will be removed after 2021-01-01. Please use instead:* `np.argmax(model.predict(x), axis=-1)`,   if your model does multi-class classification   (e.g. if it uses a `softmax` last-layer activation).* `(model.predict(x) > 0.5).astype(\"int32\")`,   if your model does binary classification   (e.g. if it uses a `sigmoid` last-layer activation).\n",
      "  warnings.warn('`model.predict_classes()` is deprecated and '\n"
     ]
    },
    {
     "data": {
      "text/plain": [
       "array([[230,   1],\n",
       "       [ 38,   1]], dtype=int64)"
      ]
     },
     "execution_count": 14,
     "metadata": {},
     "output_type": "execute_result"
    }
   ],
   "source": [
    "from sklearn.metrics import confusion_matrix\n",
    "confusion_matrix(y_test, modelc.predict_classes(X_test))"
   ]
  },
  {
   "cell_type": "markdown",
   "metadata": {
    "slideshow": {
     "slide_type": "subslide"
    }
   },
   "source": [
    "### 4.2.4 Freeze weights for Transfer Learning:"
   ]
  },
  {
   "cell_type": "code",
   "execution_count": 15,
   "metadata": {
    "slideshow": {
     "slide_type": "subslide"
    }
   },
   "outputs": [],
   "source": [
    "## Set to FALSE for transfer learning\n",
    "clayerM.trainable = False\n",
    "clayerF.trainable = False\n",
    "clayerF1.trainable = False\n",
    "\n",
    "\n",
    "## Using saved model\n",
    "#saved_model.trainable = False\n",
    "## alternatively\n",
    "#for layer in saved_model.layers[:-1]:\n",
    " # layer.trainable = False\n"
   ]
  },
  {
   "cell_type": "code",
   "execution_count": 16,
   "metadata": {},
   "outputs": [],
   "source": [
    "#get model weights\n",
    "#modelh.layers[0].get_weights()"
   ]
  },
  {
   "cell_type": "markdown",
   "metadata": {
    "slideshow": {
     "slide_type": "subslide"
    }
   },
   "source": [
    "## 4.3 Training the Hybrid model:"
   ]
  },
  {
   "cell_type": "code",
   "execution_count": null,
   "metadata": {
    "slideshow": {
     "slide_type": "subslide"
    }
   },
   "outputs": [
    {
     "name": "stdout",
     "output_type": "stream",
     "text": [
      "Epoch 1/20\n"
     ]
    }
   ],
   "source": [
    "from tensorflow.keras.callbacks import EarlyStopping , ModelCheckpoint\n",
    "\n",
    "# Include classical and quantum layers \n",
    "modelh = tf.keras.models.Sequential([clayerM,clayerF,clayerF1,qlayer,clayerDropout,clayerD])\n",
    "#modelh = tf.keras.Sequential([saved_model,qlayer,clayerD])\n",
    "\n",
    "es = EarlyStopping(monitor='auc', min_delta=1e-9, patience=600, verbose=1) #'sparse_categorical_accuracy'\n",
    "\n",
    "\n",
    "rp = ReduceLROnPlateau(monitor = 'val_loss', factor = 0.8, \n",
    "                                  patience = 10, min_delta = 0.001, \n",
    "                                  mode = 'min', verbose = 1)\n",
    "\n",
    "\n",
    "modelh.compile(opt, loss='binary_crossentropy',\n",
    "               metrics=[AUC(name = 'auc')])#'sparse_categorical_accuracy','categorical_accuracy','binary_accuracy', 'accuracy'])\n",
    "\n",
    "modelh.build(input_shape=X_train.shape)\n",
    "\n",
    "historyh = modelh.fit(X_train, y_train,\n",
    "                      #validation_split = 0.1,    \n",
    "                      validation_data=(X_val, y_val),\n",
    "                      callbacks=[es, rp],\n",
    "                      epochs=epochsH,\n",
    "                      batch_size=batch_size,\n",
    "                     shuffle=True)\n",
    "\n",
    "modelh.summary()"
   ]
  },
  {
   "cell_type": "code",
   "execution_count": null,
   "metadata": {},
   "outputs": [],
   "source": []
  },
  {
   "cell_type": "code",
   "execution_count": null,
   "metadata": {},
   "outputs": [],
   "source": [
    "modelc.get_weights()"
   ]
  },
  {
   "cell_type": "code",
   "execution_count": null,
   "metadata": {},
   "outputs": [],
   "source": [
    "modelh.get_weights()"
   ]
  },
  {
   "cell_type": "code",
   "execution_count": null,
   "metadata": {},
   "outputs": [],
   "source": [
    "for lay in modelc.layers:\n",
    "    print(lay.name)\n",
    "    print(lay.get_weights())"
   ]
  },
  {
   "cell_type": "code",
   "execution_count": null,
   "metadata": {},
   "outputs": [],
   "source": [
    "for lay in modelh.layers:\n",
    "    print(lay.name)\n",
    "    print(lay.get_weights())"
   ]
  },
  {
   "cell_type": "code",
   "execution_count": null,
   "metadata": {},
   "outputs": [],
   "source": []
  },
  {
   "cell_type": "code",
   "execution_count": null,
   "metadata": {},
   "outputs": [],
   "source": []
  },
  {
   "cell_type": "code",
   "execution_count": null,
   "metadata": {
    "slideshow": {
     "slide_type": "subslide"
    }
   },
   "outputs": [],
   "source": [
    "# Make predictions on X_test\n",
    "y_test_pred = (modelh.predict(X_test) > 0.5).astype(\"int32\")\n",
    "y_val_pred = (modelh.predict(X_val) > 0.5).astype(\"int32\")\n",
    "\n",
    "y_test_pred_proba = modelh.predict_proba(X_test)\n",
    "y_val_pred_proba = modelh.predict_proba(X_val)"
   ]
  },
  {
   "cell_type": "code",
   "execution_count": null,
   "metadata": {
    "slideshow": {
     "slide_type": "subslide"
    }
   },
   "outputs": [],
   "source": [
    "from matplotlib import pyplot\n",
    "pyplot.plot(historyh.history['loss'], label='loss train')\n",
    "pyplot.plot(historyh.history['val_loss'], label='loss test')\n",
    "pyplot.legend()\n",
    "pyplot.show()\n",
    "\n",
    "#pyplot.plot(historyh.history['binary_accuracy'], label='accuracy train')\n",
    "#pyplot.plot(historyh.history['val_binary_accuracy'], label='accuracy test')\n",
    "#pyplot.plot(history.history['mse'], label='mse')\n",
    "#pyplot.plot(history.history['mae'], label='mae')\n",
    "#pyplot.legend()\n",
    "#pyplot.show()\n",
    "\n",
    "pyplot.plot(historyh.history['auc'], label='auc train')\n",
    "pyplot.plot(historyh.history['val_auc'], label='auc test')\n",
    "pyplot.legend()\n",
    "pyplot.show()"
   ]
  },
  {
   "cell_type": "code",
   "execution_count": null,
   "metadata": {
    "slideshow": {
     "slide_type": "subslide"
    }
   },
   "outputs": [],
   "source": [
    "AUC_roc_plot(y_test,y_test_pred_proba)"
   ]
  },
  {
   "cell_type": "code",
   "execution_count": null,
   "metadata": {},
   "outputs": [],
   "source": [
    "AUC_roc_plot(y_val,y_val_pred_proba)"
   ]
  },
  {
   "cell_type": "code",
   "execution_count": null,
   "metadata": {
    "slideshow": {
     "slide_type": "subslide"
    }
   },
   "outputs": [],
   "source": [
    "confusion_matrix(y_test, modelh.predict_classes(X_test))"
   ]
  },
  {
   "cell_type": "code",
   "execution_count": null,
   "metadata": {
    "slideshow": {
     "slide_type": "subslide"
    }
   },
   "outputs": [],
   "source": []
  },
  {
   "cell_type": "code",
   "execution_count": null,
   "metadata": {},
   "outputs": [],
   "source": []
  }
 ],
 "metadata": {
  "kernelspec": {
   "display_name": "Python 3 (ipykernel)",
   "language": "python",
   "name": "python3"
  },
  "language_info": {
   "codemirror_mode": {
    "name": "ipython",
    "version": 3
   },
   "file_extension": ".py",
   "mimetype": "text/x-python",
   "name": "python",
   "nbconvert_exporter": "python",
   "pygments_lexer": "ipython3",
   "version": "3.8.10"
  }
 },
 "nbformat": 4,
 "nbformat_minor": 4
}
