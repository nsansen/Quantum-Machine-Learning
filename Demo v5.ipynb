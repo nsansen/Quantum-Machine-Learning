{
 "cells": [
  {
   "cell_type": "code",
   "execution_count": 1,
   "metadata": {},
   "outputs": [],
   "source": [
    "##########################################################################\n",
    "# Quantum Binary classifier using Keras\n",
    "# Nikolaos Schetakis , nsxetakis@yahoo.gr\n",
    "###########################################################################\n",
    "\n",
    "import pennylane as qml\n",
    "import tensorflow as tf\n",
    "from pennylane import numpy as np\n",
    "\n",
    "N=500 #NUMBER OF SAMPLES\n",
    "noise=0.01 # applicable for moon and circle datasets\n",
    "test_size=0.15 #train/test split ratio\n",
    "n_qubits = 2 # Number of qubits\n",
    "blocks = 3  #number of blocks (AngleEmbedding and StronglyEntanglingLayers is one block )\n",
    "layers = 2  #layers per block\n",
    "epochsh = 12 #training epochs\n",
    "batch_size = 20\n",
    "np.random.seed(42)\n",
    "learning_rate = 0.2 #for optimizer"
   ]
  },
  {
   "cell_type": "code",
   "execution_count": 2,
   "metadata": {},
   "outputs": [],
   "source": [
    "from sklearn.datasets import make_moons , make_circles\n",
    "\n",
    "# This part of the code is similar to the one written by Adrián Pérez-Salinas, Alba Cervera-Lierta, Elies Gil-Fuster, and José I. Latorre.\n",
    "# https://github.com/AdrianPerezSalinas/universal_qlassifier/blob/master/data_gen.py\n",
    "# Make a dataset of points inside and outside of a circle\n",
    "def _circle(samples, center=[0.0, 0.0], radius=np.sqrt(2 / np.pi)):\n",
    "    \"\"\"\n",
    "    Generates a dataset of points with 1/0 labels inside a given radius.\n",
    "\n",
    "    Args:\n",
    "        samples (int): number of samples to generate\n",
    "        center (tuple): center of the circle\n",
    "        radius (float: radius of the circle\n",
    "\n",
    "    Returns:\n",
    "        Xvals (array[tuple]): coordinates of points\n",
    "        yvals (array[int]): classification labels\n",
    "    \"\"\"\n",
    "    Xvals, yvals = [], []\n",
    "\n",
    "    for i in range(samples):\n",
    "        x = 2 * (np.random.rand(2)) - 1\n",
    "        y = 0\n",
    "        if np.linalg.norm(x - center) < radius:\n",
    "            y = 1\n",
    "        Xvals.append(x)\n",
    "        yvals.append(y)\n",
    "    return np.array(Xvals), np.array(yvals)\n",
    "\n",
    "\n",
    "def _squares(samples):\n",
    "    data=[]\n",
    "    Xvals, yvals = [], []\n",
    "    dim=2\n",
    "    for i in range(samples):\n",
    "        x = 2 * (np.random.rand(dim)) - 1\n",
    "        if x[0] < 0 and x[1] < 0: y = 0\n",
    "        if x[0] < 0 and x[1] > 0: y = 1\n",
    "        if x[0] > 0 and x[1] < 0: y = 1\n",
    "        if x[0] > 0 and x[1] > 0: y = 0        \n",
    "        Xvals.append(x)\n",
    "        yvals.append(y)\n",
    "    return np.array(Xvals), np.array(yvals)  \n",
    "    \n",
    "\n",
    "\n",
    "\n",
    "    \n",
    "def _wavy_lines0(samples, freq = 1):\n",
    "    Xvals, yvals = [], []\n",
    "    def fun1(s):\n",
    "        return s + np.sin(freq * np.pi * s)\n",
    "    \n",
    "    def fun2(s):\n",
    "        return -s + np.sin(freq * np.pi * s)\n",
    "    data=[]\n",
    "    dim=2\n",
    "    for i in range(samples):\n",
    "        x = 2 * (np.random.rand(dim)) - 1\n",
    "        if x[1] < fun1(x[0]) and x[1] < fun2(x[0]): y = 0\n",
    "        if x[1] < fun1(x[0]) and x[1] > fun2(x[0]): y = 1\n",
    "        if x[1] > fun1(x[0]) and x[1] < fun2(x[0]): y = 1\n",
    "        if x[1] > fun1(x[0]) and x[1] > fun2(x[0]): y = 0        \n",
    "        Xvals.append(x)\n",
    "        yvals.append(y)\n",
    "    return np.array(Xvals), np.array(yvals)\n",
    "      \n",
    "    \n",
    "def _wavy_lines1(samples, freq = 1):\n",
    "    Xvals, yvals = [], []\n",
    "    def fun1(s):\n",
    "        return s + np.sin(freq * np.pi * s)\n",
    "    \n",
    "    def fun2(s):\n",
    "        return -s + np.sin(freq * np.pi * s)\n",
    "    data=[]\n",
    "    dim=2\n",
    "    for i in range(samples):\n",
    "        x = 2 * (np.random.rand(dim)) - 1\n",
    "        if x[1] < fun1(x[0]) and x[1] < fun2(x[0]): y = 0\n",
    "        if x[1] < fun1(x[0]) and x[1] > fun2(x[0]): y = 1\n",
    "        if x[1] > fun1(x[0]) and x[1] < fun2(x[0]): y = 0\n",
    "        if x[1] > fun1(x[0]) and x[1] > fun2(x[0]): y = 1        \n",
    "        Xvals.append(x)\n",
    "        yvals.append(y)\n",
    "    return np.array(Xvals), np.array(yvals)\n",
    "       \n",
    "\n",
    "def _wavy_lines2(samples, freq = 1):\n",
    "    Xvals, yvals = [], []\n",
    "    def fun1(s):\n",
    "        return s + np.sin(freq * np.pi * s)\n",
    "    \n",
    "    def fun2(s):\n",
    "        return -s + np.sin(freq * np.pi * s)\n",
    "    data=[]\n",
    "    dim=2\n",
    "    for i in range(samples):\n",
    "        x = 2 * (np.random.rand(dim)) - 1\n",
    "        if x[1] < fun1(x[0]) and x[1] < fun2(x[0]): y = 0\n",
    "        if x[1] < fun1(x[0]) and x[1] > fun2(x[0]): y = 1\n",
    "        if x[1] > fun1(x[0]) and x[1] < fun2(x[0]): y = 1\n",
    "        if x[1] > fun1(x[0]) and x[1] > fun2(x[0]): y = 1        \n",
    "        Xvals.append(x)\n",
    "        yvals.append(y)\n",
    "    return np.array(Xvals), np.array(yvals)\n",
    "       \n",
    "    \n",
    "    \n",
    "def _threecircles(samples):\n",
    "    Xvals, yvals = [], []\n",
    "    centers = np.array([[-1, 1], [1, 0], [-.5, -.5]])\n",
    "    radii = np.array([1, np.sqrt(6/np.pi - 1), 1/2]) \n",
    "    data=[]\n",
    "    dim = 2\n",
    "    for i in range(samples):\n",
    "        x = 2 * (np.random.rand(dim)) - 1\n",
    "        y = 0\n",
    "        for j, (c, r) in enumerate(zip(centers, radii)): \n",
    "            if np.linalg.norm(x - c) < r:\n",
    "                y = j + 1 \n",
    "                \n",
    "        Xvals.append(x)\n",
    "        yvals.append(y)\n",
    "    return np.array(Xvals), np.array(yvals)   \n",
    "    \n",
    "    \n",
    "def _non_convex(samples, freq = 1, x_val = 2, sin_val = 1.5):\n",
    "    Xvals, yvals = [], []\n",
    "    def fun(s):\n",
    "        return -x_val * s + sin_val * np.sin(freq * np.pi * s)\n",
    "    \n",
    "    data = []\n",
    "    dim = 2\n",
    "    for i in range(samples):\n",
    "        x = 2 * (np.random.rand(dim)) - 1\n",
    "        if x[1] < fun(x[0]): y = 0\n",
    "        if x[1] > fun(x[0]): y = 1\n",
    "        data.append([x, y])\n",
    "\n",
    "        Xvals.append(x)\n",
    "        yvals.append(y)\n",
    "    return np.array(Xvals), np.array(yvals)\n",
    "    \n",
    "    \n",
    "\n",
    "def _crown(samples):\n",
    "    Xvals, yvals = [], []\n",
    "    c = [[0,0],[0,0]]\n",
    "    r = [np.sqrt(.8), np.sqrt(.8 - 2/np.pi)]\n",
    "    data = []\n",
    "    dim = 2\n",
    "    for i in range(samples):\n",
    "        x = 2 * (np.random.rand(dim)) - 1\n",
    "        if np.linalg.norm(x - c[0]) < r[0] and np.linalg.norm(x - c[1]) > r[1]:\n",
    "            y = 1\n",
    "        else: \n",
    "            y=0\n",
    "        data.append([x, y])\n",
    "        Xvals.append(x)\n",
    "        yvals.append(y)\n",
    "    return np.array(Xvals), np.array(yvals)\n",
    "\n",
    "\n",
    "def _circle2(samples):\n",
    "    Xvals, yvals = [], []\n",
    "    centers = [[0,0],[0,0]]\n",
    "    radii = [np.sqrt(.8 - 2/np.pi), np.sqrt(.8)]\n",
    "    data = []\n",
    "    dim = 2\n",
    "    for i in range(samples):\n",
    "        x = 2 * (np.random.rand(dim)) - 1\n",
    "        y=0\n",
    "        for j,(r,c) in enumerate(zip(radii, centers)):\n",
    "            if np.linalg.norm(x - c) > r:\n",
    "                y = j + 1\n",
    "        data.append([x, y])\n",
    "        Xvals.append(x)\n",
    "        yvals.append(y)\n",
    "    return np.array(Xvals), np.array(yvals)\n",
    "\n"
   ]
  },
  {
   "cell_type": "code",
   "execution_count": 3,
   "metadata": {},
   "outputs": [],
   "source": [
    "problems = ['circle', 'squares', 'wavy_lines0', 'wavy_lines1', 'wavy_lines2',\n",
    "            'non convex', 'crown',  'squares',  'circle2']\n",
    "\n",
    "\n",
    "def data_generator(problem, samples=None):\n",
    "    \"\"\"\n",
    "    This function generates the data for a problem\n",
    "    \"\"\"\n",
    "    \n",
    "    if problem not in problems:\n",
    "        raise ValueError('problem must be one of {}'.format(problems))\n",
    "\n",
    "    if problem == 'circle':\n",
    "        X, y = _circle(samples)\n",
    "        \n",
    "    if problem == '3 circles':\n",
    "        X, y = _3_circles(samples)\n",
    "        \n",
    "    if problem == 'wavy_lines0':\n",
    "        X, y = _wavy_lines0(samples)\n",
    "        \n",
    "    if problem == 'wavy_lines1':\n",
    "        X, y = _wavy_lines1(samples)\n",
    "        \n",
    "    if problem == 'wavy_lines2':\n",
    "        X, y = _wavy_lines2(samples)\n",
    "        \n",
    "    if problem == 'squares':\n",
    "        X, y = _squares(samples)\n",
    "        \n",
    "    if problem == 'sphere':\n",
    "        X, y = _sphere(samples)\n",
    "        \n",
    "    if problem == 'non convex':\n",
    "        X, y = _non_convex(samples)\n",
    "        \n",
    "    if problem == 'crown':\n",
    "        X, y = _crown(samples)\n",
    "        \n",
    "    if problem == 'circle2':\n",
    "        X, y = _tricrown(samples)\n",
    "        \n",
    "    if problem == 'hypersphere':\n",
    "        X, y = _hypersphere(samples)\n",
    "    \n",
    "        \n",
    "    return X, y     \n",
    "        \n",
    "        \n"
   ]
  },
  {
   "cell_type": "code",
   "execution_count": 4,
   "metadata": {},
   "outputs": [
    {
     "data": {
      "image/png": "[encoded data removed]",
      "text/plain": [
       "<Figure size 432x288 with 1 Axes>"
      ]
     },
     "metadata": {
      "needs_background": "light"
     },
     "output_type": "display_data"
    },
    {
     "data": {
      "image/png": "[encoded data removed]",
      "text/plain": [
       "<Figure size 432x288 with 1 Axes>"
      ]
     },
     "metadata": {
      "needs_background": "light"
     },
     "output_type": "display_data"
    }
   ],
   "source": [
    "#----------------------------------------------------------------------------------------------------\n",
    "# CHOOSE A DATASET , uncomment to select\n",
    "#----------------------------------------------------------------------------------------------------\n",
    "#X,y = data_generator(\"circle\", N)\n",
    "#X,y = data_generator(\"circle2\", N)\n",
    "#X,y = data_generator(\"non convex\", N)\n",
    "#X,y = data_generator(\"squares\", N)\n",
    "#X,y = data_generator(\"wavy_lines2\", N)\n",
    "#X,y = data_generator(\"crown\", N)\n",
    "#X, y = make_circles(n_samples=N, noise=noise)\n",
    "X, y = make_moons(n_samples=N, noise=noise)\n",
    "\n",
    "#----------------------------------------------------------------------------------------------------\n",
    "#----------------------------------------------------------------------------------------------------\n",
    "\n",
    "\n",
    "#Normalize dataset from -pi to pi\n",
    "from sklearn.preprocessing import StandardScaler , minmax_scale\n",
    "X = minmax_scale(X, feature_range=(-np.pi, np.pi))\n",
    "\n",
    "import matplotlib.pyplot as plt\n",
    "plt.figure()\n",
    "plt.scatter(X[:, 0][y == 0], X[:, 1][y == 0], c=\"b\", marker=\"o\", edgecolors=\"k\")\n",
    "plt.scatter(X[:, 0][y == 1], X[:, 1][y == 1], c=\"r\", marker=\"o\", edgecolors=\"k\")\n",
    "plt.title(\"Dataset\")\n",
    "plt.axis('off')\n",
    "plt.show()\n",
    "\n",
    "#train/test split \n",
    "from sklearn.model_selection import train_test_split # Import train_test_split function\n",
    "from sklearn import metrics #Import scikit-learn metrics module for accuracy calculation\n",
    "X_train, X_test, y_train, y_test = train_test_split(X, y, test_size=test_size, random_state=42)\n",
    "\n",
    "plt.figure()\n",
    "plt.scatter(X_test[:, 0][y_test == 0], X_test[:, 1][y_test == 0], c=\"b\", marker=\"o\", edgecolors=\"k\")\n",
    "plt.scatter(X_test[:, 0][y_test == 1], X_test[:, 1][y_test == 1], c=\"r\", marker=\"o\", edgecolors=\"k\")\n",
    "plt.title(\"Testing Dataset\")\n",
    "plt.axis('off')\n",
    "plt.show()"
   ]
  },
  {
   "cell_type": "code",
   "execution_count": 5,
   "metadata": {},
   "outputs": [],
   "source": [
    "#Plots\n",
    "\n",
    "def prediction_grid():\n",
    "    \"\"\"\n",
    "    Plot data with red/blue values for a binary classification.\n",
    "\n",
    "    Args:\n",
    "        x (array[tuple]): array of data points as tuples\n",
    "        y (array[int]): array of data points as tuples\n",
    "    \"\"\"\n",
    "    import numpy as np\n",
    "    y_pred1=np.array(y_pred[:,0])\n",
    "    #Predictions Grid \n",
    "    from matplotlib import pyplot\n",
    "    from numpy import where\n",
    "    from numpy import meshgrid\n",
    "    from numpy import arange\n",
    "    from numpy import hstack\n",
    "    min1, max1 = X[:, 0].min()-0.1, X[:, 0].max()+0.1\n",
    "    min2, max2 = X[:, 1].min()-0.1, X[:, 1].max()+0.1\n",
    "    x1grid = arange(min1, max1, 0.2)\n",
    "    x2grid = arange(min2, max2, 0.2)\n",
    "    xx, yy = meshgrid(x1grid, x2grid)\n",
    "    r1, r2 = xx.flatten(), yy.flatten()\n",
    "    r1, r2 = r1.reshape((len(r1), 1)), r2.reshape((len(r2), 1))\n",
    "    grid = hstack((r1,r2))\n",
    "\n",
    "    # make predictions for the grid\n",
    "    yhat = modelh.predict_classes(grid)\n",
    "    # reshape the predictions back into a grid\n",
    "    zz = yhat.reshape(xx.shape)\n",
    "\n",
    "    plt.scatter(\n",
    "    X_test[:, 0][y_pred1 == 0],\n",
    "    X_test[:, 1][y_pred1 == 0],\n",
    "    c=\"b\",s=100,\n",
    "    marker=\"o\",\n",
    "    edgecolors=\"k\",\n",
    "    label=\"class 0 predictions \",\n",
    "    )\n",
    "\n",
    "    plt.scatter(\n",
    "    X_test[:, 0][y_pred1 == 1],\n",
    "    X_test[:, 1][y_pred1 == 1],\n",
    "    c=\"r\",s=100,\n",
    "    marker=\"o\",\n",
    "    edgecolors=\"k\",\n",
    "    label=\"class 1 predictions \",\n",
    "    )\n",
    "\n",
    "    plt.scatter(\n",
    "    X_test[:, 0][y_test == 0],\n",
    "    X_test[:, 1][y_test == 0],\n",
    "    c=\"b\",s=100,\n",
    "    marker=\"x\",\n",
    "    edgecolors=\"k\",\n",
    "    label=\"class 0 test \",\n",
    "    )\n",
    "\n",
    "    plt.scatter(\n",
    "    X_test[:, 0][y_test == 1],\n",
    "    X_test[:, 1][y_test == 1],\n",
    "    c=\"r\",s=100,\n",
    "    marker=\"x\",\n",
    "    edgecolors=\"k\",\n",
    "    label=\"class 1 test\",\n",
    "    )\n",
    "# plot decision regions\n",
    "    cnt = pyplot.contourf(xx, yy, zz, cmap='RdBu_r',levels=[0,0.1,0.2,0.3,0.4,0.5,0.6,0.7,0.8,0.9, 1],alpha=0.8, extend=\"both\")\n",
    "    plt.contour(xx, yy,zz, levels=[0.5], colors=(\"black\",), linestyles=(\"--\",), linewidths=(2.8,))\n",
    "    plt.title(\"Predictions Grid, predictions vs test data\")\n",
    "    plt.axis('off')\n",
    "    #plt.text(1,2.8,round(roc_auc[2],2), fontsize=24)\n",
    "    #plt.legend()\n",
    "    #plt.colorbar(cnt, ticks=[0, 0.5, 1])\n",
    "    \n",
    "    \n",
    "    \n",
    "def prediction_grid1():\n",
    "    \"\"\"\n",
    "    Plot data with red/blue values for a binary classification.\n",
    "\n",
    "    Args:\n",
    "        x (array[tuple]): array of data points as tuples\n",
    "        y (array[int]): array of data points as tuples\n",
    "    \"\"\"\n",
    "    import numpy as np\n",
    "    y_pred1=np.array(y_pred[:,0])\n",
    "    #Predictions Grid \n",
    "    from matplotlib import pyplot\n",
    "    from numpy import where\n",
    "    from numpy import meshgrid\n",
    "    from numpy import arange\n",
    "    from numpy import hstack\n",
    "    min1, max1 = X[:, 0].min()-0.1, X[:, 0].max()+0.1\n",
    "    min2, max2 = X[:, 1].min()-0.1, X[:, 1].max()+0.1\n",
    "    x1grid = arange(min1, max1, 0.2)\n",
    "    x2grid = arange(min2, max2, 0.2)\n",
    "    xx, yy = meshgrid(x1grid, x2grid)\n",
    "    r1, r2 = xx.flatten(), yy.flatten()\n",
    "    r1, r2 = r1.reshape((len(r1), 1)), r2.reshape((len(r2), 1))\n",
    "    grid = hstack((r1,r2))\n",
    "\n",
    "    # make predictions for the grid\n",
    "    yhat = modelh.predict_classes(grid)\n",
    "    # reshape the predictions back into a grid\n",
    "    zz = yhat.reshape(xx.shape)\n",
    "\n",
    "\n",
    "    plt.scatter(\n",
    "    X_test[:, 0][y_test == 0],\n",
    "    X_test[:, 1][y_test == 0],\n",
    "    c=\"b\",s=100,\n",
    "    marker=\"o\",\n",
    "    edgecolors=\"k\",\n",
    "    label=\"class 0 test \",\n",
    "    )\n",
    "\n",
    "    plt.scatter(\n",
    "    X_test[:, 0][y_test == 1],\n",
    "    X_test[:, 1][y_test == 1],\n",
    "    c=\"r\",s=100,\n",
    "    marker=\"o\",\n",
    "    edgecolors=\"k\",\n",
    "    label=\"class 1 test\",\n",
    "    )\n",
    "# plot decision regions\n",
    "    cnt = pyplot.contourf(xx, yy, zz, cmap='RdBu_r',levels=[0,0.1,0.2,0.3,0.4,0.5,0.6,0.7,0.8,0.9, 1],alpha=0.8, extend=\"both\")\n",
    "    plt.contour(xx, yy,zz, levels=[0.5], colors=(\"black\",), linestyles=(\"--\",), linewidths=(2.8,))\n",
    "    plt.title(\"Predictions Grid & test dataset\")\n",
    "    plt.axis('off')\n",
    "    #plt.text(1,2.8,round(roc_auc[2],2), fontsize=24)\n",
    "    #plt.legend()\n",
    "    #plt.colorbar(cnt, ticks=[0, 0.5, 1])\n",
    "    \n",
    "    \n",
    "    \n",
    "    \n",
    "    \n",
    "def AUC_roc_plot():    \n",
    "    from sklearn.metrics import roc_curve , auc\n",
    "    from sklearn.metrics import roc_auc_score\n",
    "    from sklearn.metrics import confusion_matrix, precision_score, recall_score, f1_score, cohen_kappa_score\n",
    "    fpr = dict()\n",
    "    tpr = dict()\n",
    "    roc_auc = dict()\n",
    "\n",
    "    for i in range(len(y_test)):\n",
    "        fpr[i], tpr[i], _ = roc_curve(y_test, y_pred)\n",
    "        roc_auc[i] = auc(fpr[i], tpr[i])\n",
    "\n",
    "    # Compute micro-average ROC curve and ROC area\n",
    "    fpr[\"micro\"], tpr[\"micro\"], _ = roc_curve(y_test.ravel(), y_pred.ravel())\n",
    "    roc_auc[\"micro\"] = auc(fpr[\"micro\"], tpr[\"micro\"])\n",
    "\n",
    "    plt.figure()\n",
    "    lw = 2\n",
    "    plt.plot(fpr[2], tpr[2], color='darkorange',\n",
    "    lw=lw, label='ROC curve (area = %0.2f)' % roc_auc[2])\n",
    "    plt.plot([0, 1], [0, 1], color='navy', lw=lw, linestyle='--')\n",
    "    plt.xlim([0.0, 1.0])\n",
    "    plt.ylim([0.0, 1.05])\n",
    "    plt.xlabel('False Positive Rate')\n",
    "    plt.ylabel('True Positive Rate')\n",
    "    plt.title('Receiver operating characteristic example Ν=10 steps')\n",
    "    plt.legend(loc=\"lower right\")\n",
    "    plt.show()\n",
    "    auc_score=roc_auc_score(y_test,y_pred) \n",
    "    \n",
    "    # Confusion matrix\n",
    "    confusion_matrix(y_test, y_pred)\n",
    "    print(\"auc score: \", round(auc_score,3))"
   ]
  },
  {
   "cell_type": "code",
   "execution_count": null,
   "metadata": {},
   "outputs": [],
   "source": []
  },
  {
   "cell_type": "code",
   "execution_count": 6,
   "metadata": {},
   "outputs": [
    {
     "name": "stdout",
     "output_type": "stream",
     "text": [
      "Output of QNode: [0.70476462 0.74584144]\n",
      "Output of quantum layer:\n",
      " [[ 0.49658149 -0.0815463 ]\n",
      " [ 0.83367633 -0.18329074]\n",
      " [ 0.67873658  0.15480431]\n",
      " [ 0.49033472  0.28399231]\n",
      " [ 0.53783504  0.11684019]\n",
      " [ 0.6329364   0.07182687]\n",
      " [ 0.52687269  0.02545908]\n",
      " [ 0.75732788 -0.06050717]\n",
      " [ 0.74438296 -0.18928971]\n",
      " [ 0.43325384 -0.05216964]\n",
      " [ 0.73625251 -0.10592379]\n",
      " [ 0.63373926 -0.01624123]\n",
      " [ 0.63494335 -0.03649298]\n",
      " [ 0.7451847  -0.15798833]\n",
      " [ 0.68472851 -0.14640314]\n",
      " [ 0.50778629  0.21276685]\n",
      " [ 0.77446479 -0.07945721]\n",
      " [ 0.45240963  0.26677485]\n",
      " [ 0.42527356 -0.10409464]\n",
      " [ 0.59851976 -0.19684968]]\n"
     ]
    }
   ],
   "source": [
    "qml.enable_tape()\n",
    "dev = qml.device(\"default.qubit.tf\", wires=n_qubits)\n",
    "\n",
    "@qml.qnode(dev, interface=\"tf\", grad_method=\"backprop\")\n",
    "def qnode(inputs, weights):\n",
    "    for i in range(blocks):\n",
    "        qml.templates.AngleEmbedding(inputs, wires=range(n_qubits))\n",
    "        qml.templates.StronglyEntanglingLayers(weights[i], wires=range(n_qubits))\n",
    "    return [qml.expval(qml.PauliZ(i)) for i in range(n_qubits)]\n",
    "\n",
    "weights_shape = (blocks, layers, n_qubits, 3)\n",
    "weights = tf.Variable(np.random.random(weights_shape))\n",
    "inputs = tf.constant(np.random.random(n_qubits))\n",
    "print(\"Output of QNode:\", qnode(inputs, weights).numpy())\n",
    "# Optionally convert to Keras layer:\n",
    "tf.keras.backend.set_floatx(\"float64\")\n",
    "weight_shapes = {\"weights\": weights_shape}\n",
    "\n",
    "qlayer = qml.qnn.KerasLayer(qnode, weight_shapes, n_qubits)\n",
    "clayerf = tf.keras.layers.Dense(1, activation=\"sigmoid\")\n",
    "\n",
    "inputs = tf.constant(np.random.random((batch_size, n_qubits)))\n",
    "print(\"Output of quantum layer:\\n\", qlayer(inputs).numpy())"
   ]
  },
  {
   "cell_type": "code",
   "execution_count": 7,
   "metadata": {},
   "outputs": [],
   "source": [
    "from keras.callbacks import EarlyStopping\n",
    "opt = tf.keras.optimizers.SGD(learning_rate=learning_rate)\n",
    "modelh = tf.keras.models.Sequential([qlayer,clayerf])\n",
    "es = EarlyStopping(monitor='loss', min_delta=1e-9, patience=10, verbose=1)\n",
    "modelh.compile(opt, loss='mse',metrics=['accuracy'])"
   ]
  },
  {
   "cell_type": "code",
   "execution_count": 8,
   "metadata": {},
   "outputs": [
    {
     "name": "stdout",
     "output_type": "stream",
     "text": [
      "Epoch 1/6\n",
      "22/22 [==============================] - 35s 2s/step - loss: 0.2472 - accuracy: 0.6024 - val_loss: 0.1974 - val_accuracy: 0.7333\n",
      "Epoch 2/6\n",
      "22/22 [==============================] - 36s 2s/step - loss: 0.1914 - accuracy: 0.7482 - val_loss: 0.1719 - val_accuracy: 0.7867\n",
      "Epoch 3/6\n",
      "22/22 [==============================] - 32s 1s/step - loss: 0.1655 - accuracy: 0.7765 - val_loss: 0.1527 - val_accuracy: 0.8267\n",
      "Epoch 4/6\n",
      "22/22 [==============================] - 33s 1s/step - loss: 0.1456 - accuracy: 0.8329 - val_loss: 0.1333 - val_accuracy: 0.8533\n",
      "Epoch 5/6\n",
      "22/22 [==============================] - 34s 2s/step - loss: 0.1256 - accuracy: 0.8753 - val_loss: 0.1154 - val_accuracy: 0.8667\n",
      "Epoch 6/6\n",
      "22/22 [==============================] - 33s 2s/step - loss: 0.1089 - accuracy: 0.8847 - val_loss: 0.1003 - val_accuracy: 0.8933\n"
     ]
    }
   ],
   "source": [
    "historyh = modelh.fit(X_train, y_train,validation_data=(X_test, y_test), callbacks=[es], epochs=epochsh, batch_size=batch_size)"
   ]
  },
  {
   "cell_type": "code",
   "execution_count": 9,
   "metadata": {},
   "outputs": [
    {
     "name": "stdout",
     "output_type": "stream",
     "text": [
      "WARNING:tensorflow:From <ipython-input-9-31bac9052e9d>:2: Sequential.predict_classes (from tensorflow.python.keras.engine.sequential) is deprecated and will be removed after 2021-01-01.\n",
      "Instructions for updating:\n",
      "Please use instead:* `np.argmax(model.predict(x), axis=-1)`,   if your model does multi-class classification   (e.g. if it uses a `softmax` last-layer activation).* `(model.predict(x) > 0.5).astype(\"int32\")`,   if your model does binary classification   (e.g. if it uses a `sigmoid` last-layer activation).\n"
     ]
    },
    {
     "name": "stderr",
     "output_type": "stream",
     "text": [
      "WARNING:tensorflow:From <ipython-input-9-31bac9052e9d>:2: Sequential.predict_classes (from tensorflow.python.keras.engine.sequential) is deprecated and will be removed after 2021-01-01.\n",
      "Instructions for updating:\n",
      "Please use instead:* `np.argmax(model.predict(x), axis=-1)`,   if your model does multi-class classification   (e.g. if it uses a `softmax` last-layer activation).* `(model.predict(x) > 0.5).astype(\"int32\")`,   if your model does binary classification   (e.g. if it uses a `sigmoid` last-layer activation).\n"
     ]
    }
   ],
   "source": [
    "# Make predictions on X_test\n",
    "y_pred = modelh.predict_classes(X_test)"
   ]
  },
  {
   "cell_type": "code",
   "execution_count": 10,
   "metadata": {},
   "outputs": [
    {
     "data": {
      "image/png": "[encoded data removed]",
      "text/plain": [
       "<Figure size 432x288 with 1 Axes>"
      ]
     },
     "metadata": {
      "needs_background": "light"
     },
     "output_type": "display_data"
    },
    {
     "data": {
      "image/png": "[encoded data removed]",
      "text/plain": [
       "<Figure size 432x288 with 1 Axes>"
      ]
     },
     "metadata": {
      "needs_background": "light"
     },
     "output_type": "display_data"
    }
   ],
   "source": [
    "from matplotlib import pyplot\n",
    "pyplot.plot(historyh.history['loss'], label='loss train')\n",
    "pyplot.plot(historyh.history['val_loss'], label='loss test')\n",
    "pyplot.legend()\n",
    "pyplot.show()\n",
    "\n",
    "pyplot.plot(historyh.history['accuracy'], label='accuracy train')\n",
    "pyplot.plot(historyh.history['val_accuracy'], label='accuracy test')\n",
    "#pyplot.plot(history.history['mse'], label='mse')\n",
    "#pyplot.plot(history.history['mae'], label='mae')\n",
    "pyplot.legend()\n",
    "pyplot.show()"
   ]
  },
  {
   "cell_type": "code",
   "execution_count": 11,
   "metadata": {},
   "outputs": [
    {
     "data": {
      "image/png": "[encoded data removed]",
      "text/plain": [
       "<Figure size 432x288 with 1 Axes>"
      ]
     },
     "metadata": {
      "needs_background": "light"
     },
     "output_type": "display_data"
    },
    {
     "name": "stdout",
     "output_type": "stream",
     "text": [
      "auc score:  0.89\n"
     ]
    }
   ],
   "source": [
    "AUC_roc_plot()"
   ]
  },
  {
   "cell_type": "code",
   "execution_count": 12,
   "metadata": {},
   "outputs": [
    {
     "data": {
      "image/png": "[encoded data removed]",
      "text/plain": [
       "<Figure size 432x288 with 1 Axes>"
      ]
     },
     "metadata": {
      "needs_background": "light"
     },
     "output_type": "display_data"
    }
   ],
   "source": [
    "prediction_grid()"
   ]
  },
  {
   "cell_type": "code",
   "execution_count": 14,
   "metadata": {},
   "outputs": [
    {
     "data": {
      "image/png": "[encoded data removed]",
      "text/plain": [
       "<Figure size 432x288 with 1 Axes>"
      ]
     },
     "metadata": {
      "needs_background": "light"
     },
     "output_type": "display_data"
    }
   ],
   "source": [
    "prediction_grid1()"
   ]
  },
  {
   "cell_type": "code",
   "execution_count": null,
   "metadata": {},
   "outputs": [],
   "source": []
  },
  {
   "cell_type": "code",
   "execution_count": null,
   "metadata": {},
   "outputs": [],
   "source": []
  },
  {
   "cell_type": "code",
   "execution_count": null,
   "metadata": {},
   "outputs": [],
   "source": []
  },
  {
   "cell_type": "code",
   "execution_count": null,
   "metadata": {},
   "outputs": [],
   "source": []
  },
  {
   "cell_type": "code",
   "execution_count": null,
   "metadata": {},
   "outputs": [],
   "source": []
  },
  {
   "cell_type": "code",
   "execution_count": null,
   "metadata": {},
   "outputs": [],
   "source": []
  },
  {
   "cell_type": "code",
   "execution_count": null,
   "metadata": {},
   "outputs": [],
   "source": []
  },
  {
   "cell_type": "code",
   "execution_count": null,
   "metadata": {},
   "outputs": [],
   "source": []
  },
  {
   "cell_type": "code",
   "execution_count": null,
   "metadata": {},
   "outputs": [],
   "source": []
  },
  {
   "cell_type": "code",
   "execution_count": null,
   "metadata": {},
   "outputs": [],
   "source": []
  },
  {
   "cell_type": "code",
   "execution_count": null,
   "metadata": {},
   "outputs": [],
   "source": []
  },
  {
   "cell_type": "code",
   "execution_count": null,
   "metadata": {},
   "outputs": [],
   "source": []
  },
  {
   "cell_type": "code",
   "execution_count": null,
   "metadata": {},
   "outputs": [],
   "source": []
  }
 ],
 "metadata": {
  "kernelspec": {
   "display_name": "Python 3",
   "language": "python",
   "name": "python3"
  },
  "language_info": {
   "codemirror_mode": {
    "name": "ipython",
    "version": 3
   },
   "file_extension": ".py",
   "mimetype": "text/x-python",
   "name": "python",
   "nbconvert_exporter": "python",
   "pygments_lexer": "ipython3",
   "version": "3.6.12"
  }
 },
 "nbformat": 4,
 "nbformat_minor": 4
}
